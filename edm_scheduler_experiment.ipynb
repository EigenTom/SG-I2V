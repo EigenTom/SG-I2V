{
 "cells": [
  {
   "cell_type": "code",
   "execution_count": null,
   "id": "a75d0ed5",
   "metadata": {},
   "outputs": [
    {
     "name": "stderr",
     "output_type": "stream",
     "text": [
      "Loading pipeline components...: 100%|██████████| 5/5 [00:00<00:00,  8.51it/s]\n",
      "The config attributes {'clip_sample': False, 'set_alpha_to_one': False, 'skip_prk_steps': True} were passed to EDMEulerScheduler, but are not expected and will be ignored. Please verify your scheduler_config.json configuration file.\n"
     ]
    },
    {
     "name": "stdout",
     "output_type": "stream",
     "text": [
      "changed scheduler to EDMEulerScheduler\n"
     ]
    },
    {
     "name": "stderr",
     "output_type": "stream",
     "text": [
      "100%|██████████| 50/50 [01:20<00:00,  1.61s/it]\n"
     ]
    },
    {
     "data": {
      "text/plain": [
       "'generated_EDMEulerScheduler.mp4'"
      ]
     },
     "execution_count": 2,
     "metadata": {},
     "output_type": "execute_result"
    },
    {
     "ename": "",
     "evalue": "",
     "output_type": "error",
     "traceback": [
      "\u001b[1;31m在当前单元格或上一个单元格中执行代码时 Kernel 崩溃。\n",
      "\u001b[1;31m请查看单元格中的代码，以确定故障的可能原因。\n",
      "\u001b[1;31m单击<a href='https://aka.ms/vscodeJupyterKernelCrash'>此处</a>了解详细信息。\n",
      "\u001b[1;31m有关更多详细信息，请查看 Jupyter <a href='command:jupyter.viewOutput'>log</a>。"
     ]
    }
   ],
   "source": [
    "import torch\n",
    "\n",
    "from diffusers import StableVideoDiffusionPipeline, EDMEulerScheduler\n",
    "from diffusers.utils import load_image, export_to_video\n",
    "\n",
    "ID = 176\n",
    "image_path = f\"/home/luyi/luyi_workspace/SG-I2V/examples/{ID}/img.png\"\n",
    "\n",
    "model_id = \"stabilityai/stable-video-diffusion-img2vid\" # \"/home/models/stable-video-diffusion-img2vid-xt-1-1/\"\n",
    "pipe = StableVideoDiffusionPipeline.from_pretrained(model_id, torch_dtype=torch.float16, variant=\"fp16\").to(\"cuda\")\n",
    "c = pipe.scheduler.config\n",
    "# c[\"prediction_type\"] = \"v_prediction\"\n",
    "pipe.scheduler = EDMEulerScheduler.from_config(c)\n",
    "print(\"changed scheduler to \" + pipe.scheduler.__class__.__name__)\n",
    "\n",
    "# the rocket image\n",
    "image = load_image(image_path)\n",
    "image = image.resize((1024, 576))\n",
    "\n",
    "generator = torch.Generator(\"cuda\").manual_seed(4)\n",
    "frames = pipe(image, num_frames=14, num_inference_steps=50, decode_chunk_size=8, generator=generator).frames[0]\n",
    "\n",
    "export_to_video(frames, \"generated_\"+pipe.scheduler.__class__.__name__+\".mp4\", fps=10)"
   ]
  },
  {
   "cell_type": "code",
   "execution_count": null,
   "id": "9c388adc",
   "metadata": {},
   "outputs": [],
   "source": [
    "scheduler = EDMEulerScheduler.from_config(pipe.scheduler.config)\n",
    "\n"
   ]
  }
 ],
 "metadata": {
  "kernelspec": {
   "display_name": "sgi2v",
   "language": "python",
   "name": "python3"
  },
  "language_info": {
   "codemirror_mode": {
    "name": "ipython",
    "version": 3
   },
   "file_extension": ".py",
   "mimetype": "text/x-python",
   "name": "python",
   "nbconvert_exporter": "python",
   "pygments_lexer": "ipython3",
   "version": "3.12.4"
  }
 },
 "nbformat": 4,
 "nbformat_minor": 5
}
