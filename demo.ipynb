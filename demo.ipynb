{
 "cells": [
  {
   "cell_type": "code",
   "execution_count": 1,
   "id": "3fa238e2",
   "metadata": {},
   "outputs": [
    {
     "name": "stderr",
     "output_type": "stream",
     "text": [
      "/home/lee_li/miniconda3/envs/t2v/lib/python3.8/site-packages/tqdm/auto.py:21: TqdmWarning: IProgress not found. Please update jupyter and ipywidgets. See https://ipywidgets.readthedocs.io/en/stable/user_install.html\n",
      "  from .autonotebook import tqdm as notebook_tqdm\n",
      "Seed set to 42\n"
     ]
    },
    {
     "name": "stdout",
     "output_type": "stream",
     "text": [
      "AE working on z of shape (1, 4, 64, 64) = 16384 dimensions.\n"
     ]
    },
    {
     "name": "stderr",
     "output_type": "stream",
     "text": [
      "/home/lee_li/miniconda3/envs/t2v/lib/python3.8/site-packages/timm/models/layers/__init__.py:48: FutureWarning: Importing from timm.models.layers is deprecated, please import via timm.layers\n",
      "  warnings.warn(f\"Importing from {__name__} is deprecated, please import via timm.layers\", FutureWarning)\n"
     ]
    },
    {
     "name": "stdout",
     "output_type": "stream",
     "text": [
      ">>> model checkpoint loaded.\n"
     ]
    }
   ],
   "source": [
    "import torch\n",
    "import torch.utils.checkpoint\n",
    "from lvdm.models.samplers.ddim import DDIMSampler\n",
    "import random\n",
    "import matplotlib.pyplot as plt\n",
    "import numpy as np\n",
    "from pytorch_lightning import seed_everything\n",
    "seed_everything(42)\n",
    "\n",
    "from omegaconf import OmegaConf\n",
    "from einops import rearrange\n",
    "from pytorch_lightning import seed_everything\n",
    "from scripts.evaluation.initializer import *\n",
    "from utils.utils import instantiate_from_config\n",
    "from scripts.evaluation.funcs import load_model_checkpoint, load_prompts, load_image_batch, get_filelist, save_videos\n",
    "\n",
    "device = torch.device(\"cuda\") if torch.cuda.is_available() else torch.device(\"cpu\")\n",
    "ckpt_path = \"/home/lee_li/axton_workspace/t2v_newbet/SG-I2V/checkpoints/base_512_v2/model.ckpt\"\n",
    "config = \"/home/lee_li/axton_workspace/t2v_newbet/SG-I2V/configs/inference_t2v_512_v2.0.yaml\"\n",
    "config = OmegaConf.load(config)\n",
    "model_config = config.pop(\"model\", OmegaConf.create())\n",
    "model = instantiate_from_config(model_config)\n",
    "model = model.to(device)\n",
    "model = load_model_checkpoint(model, ckpt_path)\n",
    "model.eval()\n",
    "sampler = DDIMSampler(model)\n"
   ]
  },
  {
   "cell_type": "code",
   "execution_count": 2,
   "id": "76f9c5f4",
   "metadata": {},
   "outputs": [],
   "source": [
    "def hook_downsample_blocks(model, pattern=\"input_blocks\", verbose=True):\n",
    "    hooks = []\n",
    "\n",
    "    def hook_fn(name):\n",
    "        def fn(module, input, output):\n",
    "            in_shapes = [i.shape if isinstance(i, torch.Tensor) else type(i) for i in input]\n",
    "            if isinstance(output, torch.Tensor):\n",
    "                out_shape = output.shape\n",
    "            elif isinstance(output, (list, tuple)):\n",
    "                out_shape = [o.shape if isinstance(o, torch.Tensor) else type(o) for o in output]\n",
    "            else:\n",
    "                out_shape = type(output)\n",
    "\n",
    "            if verbose:\n",
    "                print(f\"[{name}] Input: {in_shapes} → Output: {out_shape}\")\n",
    "        return fn\n",
    "\n",
    "    for name, module in model.named_modules():\n",
    "        if pattern in name: # and name.endswith(\".0\"):\n",
    "            hooks.append(module.register_forward_hook(hook_fn(name)))\n",
    "    \n",
    "    return hooks\n",
    "\n",
    "# hooks = hook_downsample_blocks(model.model)"
   ]
  },
  {
   "cell_type": "code",
   "execution_count": 3,
   "id": "f21641bf",
   "metadata": {},
   "outputs": [],
   "source": [
    "# # print out model's all layers\n",
    "# for name, module in model.named_modules():\n",
    "#     print(name)\n"
   ]
  },
  {
   "cell_type": "code",
   "execution_count": 21,
   "id": "65e6432c",
   "metadata": {},
   "outputs": [
    {
     "name": "stdout",
     "output_type": "stream",
     "text": [
      "DDIM scale True\n",
      "[DEBUG]Conditioning textual context shape: torch.Size([1, 77, 1024])\n",
      "[DEBUG] sim shape: torch.Size([80, 2560, 77])\n",
      "[DEBUG] attn shape: torch.Size([80, 2560, 77])\n",
      "[DEBUG] Height: 40, Width: 64\n",
      "[DEBUG] sim shape: torch.Size([80, 2560, 77])\n",
      "[DEBUG] attn shape: torch.Size([80, 2560, 77])\n",
      "[DEBUG] Height: 40, Width: 64\n",
      "[DEBUG] sim shape: torch.Size([160, 640, 77])\n",
      "[DEBUG] attn shape: torch.Size([160, 640, 77])\n",
      "[DEBUG] Height: 20, Width: 32\n",
      "[DEBUG] sim shape: torch.Size([160, 640, 77])\n",
      "[DEBUG] attn shape: torch.Size([160, 640, 77])\n",
      "[DEBUG] Height: 20, Width: 32\n",
      "[DEBUG] sim shape: torch.Size([320, 160, 77])\n",
      "[DEBUG] attn shape: torch.Size([320, 160, 77])\n",
      "[DEBUG] Height: 10, Width: 16\n",
      "[DEBUG] sim shape: torch.Size([320, 160, 77])\n",
      "[DEBUG] attn shape: torch.Size([320, 160, 77])\n",
      "[DEBUG] Height: 10, Width: 16\n",
      "[DEBUG] sim shape: torch.Size([320, 40, 77])\n",
      "[DEBUG] attn shape: torch.Size([320, 40, 77])\n",
      "[DEBUG] Height: 5, Width: 8\n",
      "[DEBUG] sim shape: torch.Size([320, 160, 77])\n",
      "[DEBUG] attn shape: torch.Size([320, 160, 77])\n",
      "[DEBUG] Height: 10, Width: 16\n",
      "[DEBUG] sim shape: torch.Size([320, 160, 77])\n",
      "[DEBUG] attn shape: torch.Size([320, 160, 77])\n",
      "[DEBUG] Height: 10, Width: 16\n",
      "[DEBUG] sim shape: torch.Size([320, 160, 77])\n",
      "[DEBUG] attn shape: torch.Size([320, 160, 77])\n",
      "[DEBUG] Height: 10, Width: 16\n",
      "[DEBUG] sim shape: torch.Size([160, 640, 77])\n",
      "[DEBUG] attn shape: torch.Size([160, 640, 77])\n",
      "[DEBUG] Height: 20, Width: 32\n",
      "[DEBUG] sim shape: torch.Size([160, 640, 77])\n",
      "[DEBUG] attn shape: torch.Size([160, 640, 77])\n",
      "[DEBUG] Height: 20, Width: 32\n",
      "[DEBUG] sim shape: torch.Size([160, 640, 77])\n",
      "[DEBUG] attn shape: torch.Size([160, 640, 77])\n",
      "[DEBUG] Height: 20, Width: 32\n",
      "[DEBUG] sim shape: torch.Size([80, 2560, 77])\n",
      "[DEBUG] attn shape: torch.Size([80, 2560, 77])\n",
      "[DEBUG] Height: 40, Width: 64\n",
      "[DEBUG] sim shape: torch.Size([80, 2560, 77])\n",
      "[DEBUG] attn shape: torch.Size([80, 2560, 77])\n",
      "[DEBUG] Height: 40, Width: 64\n",
      "[DEBUG] sim shape: torch.Size([80, 2560, 77])\n",
      "[DEBUG] attn shape: torch.Size([80, 2560, 77])\n",
      "[DEBUG] Height: 40, Width: 64\n",
      "[INFO][get_attention_] Completed Attn Map Extraction.\n"
     ]
    }
   ],
   "source": [
    "agent = initializer(model, sampler)\n",
    "\n",
    "# prompt = [[\"A squirrel jumping from one tree to another.\"]]\n",
    "prompt = [[\"cat\"]]\n",
    "\n",
    "latent_shape = [1, 4, 16, 40, 64]\n",
    "\n",
    "img = torch.randn(latent_shape).to(device)\n",
    "\n",
    "attn_maps = agent.get_attn(prompt, img, scale=1.0, steps=50)\n"
   ]
  },
  {
   "cell_type": "code",
   "execution_count": 22,
   "id": "ede23b56",
   "metadata": {},
   "outputs": [
    {
     "name": "stdout",
     "output_type": "stream",
     "text": [
      "[49406, 320, 14004, 11476, 633, 637, 2677, 531, 1380, 269, 49407]\n"
     ]
    }
   ],
   "source": [
    "from transformers import CLIPTokenizer\n",
    "\n",
    "tokenizer = CLIPTokenizer.from_pretrained(\"openai/clip-vit-base-patch32\")\n",
    "text = prompt[0][0]\n",
    "token_ids = tokenizer.encode(text)  # returns [49406, ..., 49407]\n",
    "print(token_ids)\n",
    "\n",
    "# A squirrel jumping from one tree to another.\n",
    "\n",
    "# 第一个是 [CLS]（id=49406）\n",
    "# 最后是 [EOS]（id=49407）"
   ]
  },
  {
   "cell_type": "code",
   "execution_count": 27,
   "id": "0e6e0dd8",
   "metadata": {},
   "outputs": [
    {
     "name": "stdout",
     "output_type": "stream",
     "text": [
      "torch.Size([10, 16])\n"
     ]
    },
    {
     "data": {
      "image/png": "[encoded data removed]",
      "text/plain": [
       "<Figure size 640x480 with 1 Axes>"
      ]
     },
     "metadata": {},
     "output_type": "display_data"
    }
   ],
   "source": [
    "attn_maps[0].shape\n",
    "\n",
    "tmp_attn_map = attn_maps[0][0]\n",
    "\n",
    "# should be the first frame\n",
    "tmp_attn_map.shape\n",
    "\n",
    "# then get the 3rd token, \"squirrel\"'s attention heatmap on this frame (0th frame)\n",
    "token_idx = 2\n",
    "\n",
    "# get the 3rd tensor from the [10, 16, 40] tensor\n",
    "this_attn_map = tmp_attn_map[:,:,token_idx]\n",
    "print(this_attn_map.shape)\n",
    "\n",
    "# try to visualize the attention map\n",
    "import matplotlib.pyplot as plt\n",
    "\n",
    "plt.imshow(this_attn_map)\n",
    "plt.show()\n",
    "\n"
   ]
  },
  {
   "cell_type": "code",
   "execution_count": 7,
   "id": "0c29fb7a",
   "metadata": {},
   "outputs": [],
   "source": [
    "# average the attn map over the 3rd dimension\n"
   ]
  }
 ],
 "metadata": {
  "kernelspec": {
   "display_name": "t2v",
   "language": "python",
   "name": "python3"
  },
  "language_info": {
   "codemirror_mode": {
    "name": "ipython",
    "version": 3
   },
   "file_extension": ".py",
   "mimetype": "text/x-python",
   "name": "python",
   "nbconvert_exporter": "python",
   "pygments_lexer": "ipython3",
   "version": "3.8.5"
  }
 },
 "nbformat": 4,
 "nbformat_minor": 5
}
